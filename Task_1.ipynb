{
  "nbformat": 4,
  "nbformat_minor": 0,
  "metadata": {
    "colab": {
      "name": "Copy of Task_1.ipynb",
      "provenance": [],
      "collapsed_sections": []
    },
    "kernelspec": {
      "name": "python3",
      "display_name": "Python 3"
    },
    "language_info": {
      "name": "python"
    }
  },
  "cells": [
    {
      "cell_type": "markdown",
      "metadata": {
        "id": "qstuNSQZxnnw"
      },
      "source": [
        "## Task 1: Prediction using Supervised ML.\n",
        "\n",
        "### Name: Rahul Singh\n",
        "\n",
        "### Domain: Data Science & Business Analytics\n",
        "\n",
        "### Problem Statement: Predict the percentage of a student based on the number of study hours using Linear Regression."
      ]
    },
    {
      "cell_type": "code",
      "metadata": {
        "id": "QuCTCZH5xPmX"
      },
      "source": [
        "# Importing warnings library to ignore the warnings\n",
        "import warnings\n",
        "warnings.filterwarnings('ignore')"
      ],
      "execution_count": 1,
      "outputs": []
    },
    {
      "cell_type": "code",
      "metadata": {
        "id": "Vq8Y8i6GxPVO"
      },
      "source": [
        "# Importing relevant libraries for data handling and visualization\n",
        "import numpy as np\n",
        "import pandas as pd\n",
        "import matplotlib.pyplot as plt\n",
        "import seaborn as sns\n",
        "\n",
        "%matplotlib inline"
      ],
      "execution_count": 2,
      "outputs": []
    },
    {
      "cell_type": "markdown",
      "metadata": {
        "id": "ZV-w4OGQ13jr"
      },
      "source": [
        "## Reading and Understanding the dataset"
      ]
    },
    {
      "cell_type": "code",
      "metadata": {
        "colab": {
          "base_uri": "https://localhost:8080/",
          "height": 204
        },
        "id": "pAv4dXa2xLSx",
        "outputId": "a060fdcd-a364-4f83-95d6-7431fd53cdea"
      },
      "source": [
        "data_link= 'http://bit.ly/w-data'\n",
        "data= pd.read_csv(data_link)\n",
        "data.head() # Displaying first five rows of data"
      ],
      "execution_count": 3,
      "outputs": [
        {
          "output_type": "execute_result",
          "data": {
            "text/html": [
              "<div>\n",
              "<style scoped>\n",
              "    .dataframe tbody tr th:only-of-type {\n",
              "        vertical-align: middle;\n",
              "    }\n",
              "\n",
              "    .dataframe tbody tr th {\n",
              "        vertical-align: top;\n",
              "    }\n",
              "\n",
              "    .dataframe thead th {\n",
              "        text-align: right;\n",
              "    }\n",
              "</style>\n",
              "<table border=\"1\" class=\"dataframe\">\n",
              "  <thead>\n",
              "    <tr style=\"text-align: right;\">\n",
              "      <th></th>\n",
              "      <th>Hours</th>\n",
              "      <th>Scores</th>\n",
              "    </tr>\n",
              "  </thead>\n",
              "  <tbody>\n",
              "    <tr>\n",
              "      <th>0</th>\n",
              "      <td>2.5</td>\n",
              "      <td>21</td>\n",
              "    </tr>\n",
              "    <tr>\n",
              "      <th>1</th>\n",
              "      <td>5.1</td>\n",
              "      <td>47</td>\n",
              "    </tr>\n",
              "    <tr>\n",
              "      <th>2</th>\n",
              "      <td>3.2</td>\n",
              "      <td>27</td>\n",
              "    </tr>\n",
              "    <tr>\n",
              "      <th>3</th>\n",
              "      <td>8.5</td>\n",
              "      <td>75</td>\n",
              "    </tr>\n",
              "    <tr>\n",
              "      <th>4</th>\n",
              "      <td>3.5</td>\n",
              "      <td>30</td>\n",
              "    </tr>\n",
              "  </tbody>\n",
              "</table>\n",
              "</div>"
            ],
            "text/plain": [
              "   Hours  Scores\n",
              "0    2.5      21\n",
              "1    5.1      47\n",
              "2    3.2      27\n",
              "3    8.5      75\n",
              "4    3.5      30"
            ]
          },
          "metadata": {
            "tags": []
          },
          "execution_count": 3
        }
      ]
    },
    {
      "cell_type": "code",
      "metadata": {
        "colab": {
          "base_uri": "https://localhost:8080/"
        },
        "id": "fHCIUsh-ytFw",
        "outputId": "4e1cbeef-c410-4dae-aac0-410eb925c66b"
      },
      "source": [
        "# Checking the shape of data\n",
        "data.shape"
      ],
      "execution_count": 4,
      "outputs": [
        {
          "output_type": "execute_result",
          "data": {
            "text/plain": [
              "(25, 2)"
            ]
          },
          "metadata": {
            "tags": []
          },
          "execution_count": 4
        }
      ]
    },
    {
      "cell_type": "markdown",
      "metadata": {
        "id": "D0wFRkE-y_C-"
      },
      "source": [
        "### Insight: There are only 25 data points and two columns in the data set."
      ]
    },
    {
      "cell_type": "code",
      "metadata": {
        "colab": {
          "base_uri": "https://localhost:8080/"
        },
        "id": "Q6XgXE07y87m",
        "outputId": "310c5f61-78d6-494d-880e-809abf78f947"
      },
      "source": [
        "# checking the columns name in the dataset\n",
        "data.columns"
      ],
      "execution_count": 5,
      "outputs": [
        {
          "output_type": "execute_result",
          "data": {
            "text/plain": [
              "Index(['Hours', 'Scores'], dtype='object')"
            ]
          },
          "metadata": {
            "tags": []
          },
          "execution_count": 5
        }
      ]
    },
    {
      "cell_type": "code",
      "metadata": {
        "colab": {
          "base_uri": "https://localhost:8080/"
        },
        "id": "AKC2Is_vzJuu",
        "outputId": "4e4b21ec-5417-41f0-fd22-0bfa2e312b5d"
      },
      "source": [
        "# Checking the basic information on dataset\n",
        "data.info()"
      ],
      "execution_count": 6,
      "outputs": [
        {
          "output_type": "stream",
          "text": [
            "<class 'pandas.core.frame.DataFrame'>\n",
            "RangeIndex: 25 entries, 0 to 24\n",
            "Data columns (total 2 columns):\n",
            " #   Column  Non-Null Count  Dtype  \n",
            "---  ------  --------------  -----  \n",
            " 0   Hours   25 non-null     float64\n",
            " 1   Scores  25 non-null     int64  \n",
            "dtypes: float64(1), int64(1)\n",
            "memory usage: 528.0 bytes\n"
          ],
          "name": "stdout"
        }
      ]
    },
    {
      "cell_type": "markdown",
      "metadata": {
        "id": "cmF4_Bqw0Gvx"
      },
      "source": [
        "### Insight:\n",
        "1. There are no missing values.\n",
        "2. Both the columns are numerical in nature.\n",
        "\n",
        "\n"
      ]
    },
    {
      "cell_type": "code",
      "metadata": {
        "colab": {
          "base_uri": "https://localhost:8080/",
          "height": 297
        },
        "id": "h_jW8X3Pza-y",
        "outputId": "7d350abd-fcdd-4623-c12b-41f10f8200bf"
      },
      "source": [
        "# checking the statistical information about dataset\n",
        "data.describe()"
      ],
      "execution_count": 7,
      "outputs": [
        {
          "output_type": "execute_result",
          "data": {
            "text/html": [
              "<div>\n",
              "<style scoped>\n",
              "    .dataframe tbody tr th:only-of-type {\n",
              "        vertical-align: middle;\n",
              "    }\n",
              "\n",
              "    .dataframe tbody tr th {\n",
              "        vertical-align: top;\n",
              "    }\n",
              "\n",
              "    .dataframe thead th {\n",
              "        text-align: right;\n",
              "    }\n",
              "</style>\n",
              "<table border=\"1\" class=\"dataframe\">\n",
              "  <thead>\n",
              "    <tr style=\"text-align: right;\">\n",
              "      <th></th>\n",
              "      <th>Hours</th>\n",
              "      <th>Scores</th>\n",
              "    </tr>\n",
              "  </thead>\n",
              "  <tbody>\n",
              "    <tr>\n",
              "      <th>count</th>\n",
              "      <td>25.000000</td>\n",
              "      <td>25.000000</td>\n",
              "    </tr>\n",
              "    <tr>\n",
              "      <th>mean</th>\n",
              "      <td>5.012000</td>\n",
              "      <td>51.480000</td>\n",
              "    </tr>\n",
              "    <tr>\n",
              "      <th>std</th>\n",
              "      <td>2.525094</td>\n",
              "      <td>25.286887</td>\n",
              "    </tr>\n",
              "    <tr>\n",
              "      <th>min</th>\n",
              "      <td>1.100000</td>\n",
              "      <td>17.000000</td>\n",
              "    </tr>\n",
              "    <tr>\n",
              "      <th>25%</th>\n",
              "      <td>2.700000</td>\n",
              "      <td>30.000000</td>\n",
              "    </tr>\n",
              "    <tr>\n",
              "      <th>50%</th>\n",
              "      <td>4.800000</td>\n",
              "      <td>47.000000</td>\n",
              "    </tr>\n",
              "    <tr>\n",
              "      <th>75%</th>\n",
              "      <td>7.400000</td>\n",
              "      <td>75.000000</td>\n",
              "    </tr>\n",
              "    <tr>\n",
              "      <th>max</th>\n",
              "      <td>9.200000</td>\n",
              "      <td>95.000000</td>\n",
              "    </tr>\n",
              "  </tbody>\n",
              "</table>\n",
              "</div>"
            ],
            "text/plain": [
              "           Hours     Scores\n",
              "count  25.000000  25.000000\n",
              "mean    5.012000  51.480000\n",
              "std     2.525094  25.286887\n",
              "min     1.100000  17.000000\n",
              "25%     2.700000  30.000000\n",
              "50%     4.800000  47.000000\n",
              "75%     7.400000  75.000000\n",
              "max     9.200000  95.000000"
            ]
          },
          "metadata": {
            "tags": []
          },
          "execution_count": 7
        }
      ]
    },
    {
      "cell_type": "markdown",
      "metadata": {
        "id": "CPbeaffF0mvR"
      },
      "source": [
        "### Insight:\n",
        "1. The range of Hours column is 1.1 hrs to 9.2 hrs.\n",
        "2. The range of Scores column varies from 17 to 95."
      ]
    },
    {
      "cell_type": "markdown",
      "metadata": {
        "id": "oLH66hU51xep"
      },
      "source": [
        "## Data Visualization"
      ]
    },
    {
      "cell_type": "code",
      "metadata": {
        "colab": {
          "base_uri": "https://localhost:8080/",
          "height": 204
        },
        "id": "3eHuopMZ0a9G",
        "outputId": "f74e1bcf-6c31-4c0a-8d2c-22597e8279aa"
      },
      "source": [
        "data.head()"
      ],
      "execution_count": 8,
      "outputs": [
        {
          "output_type": "execute_result",
          "data": {
            "text/html": [
              "<div>\n",
              "<style scoped>\n",
              "    .dataframe tbody tr th:only-of-type {\n",
              "        vertical-align: middle;\n",
              "    }\n",
              "\n",
              "    .dataframe tbody tr th {\n",
              "        vertical-align: top;\n",
              "    }\n",
              "\n",
              "    .dataframe thead th {\n",
              "        text-align: right;\n",
              "    }\n",
              "</style>\n",
              "<table border=\"1\" class=\"dataframe\">\n",
              "  <thead>\n",
              "    <tr style=\"text-align: right;\">\n",
              "      <th></th>\n",
              "      <th>Hours</th>\n",
              "      <th>Scores</th>\n",
              "    </tr>\n",
              "  </thead>\n",
              "  <tbody>\n",
              "    <tr>\n",
              "      <th>0</th>\n",
              "      <td>2.5</td>\n",
              "      <td>21</td>\n",
              "    </tr>\n",
              "    <tr>\n",
              "      <th>1</th>\n",
              "      <td>5.1</td>\n",
              "      <td>47</td>\n",
              "    </tr>\n",
              "    <tr>\n",
              "      <th>2</th>\n",
              "      <td>3.2</td>\n",
              "      <td>27</td>\n",
              "    </tr>\n",
              "    <tr>\n",
              "      <th>3</th>\n",
              "      <td>8.5</td>\n",
              "      <td>75</td>\n",
              "    </tr>\n",
              "    <tr>\n",
              "      <th>4</th>\n",
              "      <td>3.5</td>\n",
              "      <td>30</td>\n",
              "    </tr>\n",
              "  </tbody>\n",
              "</table>\n",
              "</div>"
            ],
            "text/plain": [
              "   Hours  Scores\n",
              "0    2.5      21\n",
              "1    5.1      47\n",
              "2    3.2      27\n",
              "3    8.5      75\n",
              "4    3.5      30"
            ]
          },
          "metadata": {
            "tags": []
          },
          "execution_count": 8
        }
      ]
    },
    {
      "cell_type": "markdown",
      "metadata": {
        "id": "zcm-QyZpFLOq"
      },
      "source": [
        "### Uni-Variate Analysis"
      ]
    },
    {
      "cell_type": "code",
      "metadata": {
        "colab": {
          "base_uri": "https://localhost:8080/",
          "height": 279
        },
        "id": "d9i1S6Ei1-kh",
        "outputId": "ea0dd0e1-d8c9-4dd3-ac8e-66a760b80bf4"
      },
      "source": [
        "#Plotting distplot for column- 'Scores'\n",
        "sns.distplot(data['Scores'])\n",
        "plt.show()"
      ],
      "execution_count": 9,
      "outputs": [
        {
          "output_type": "display_data",
          "data": {
            "image/png": "[encoded data removed]",
            "text/plain": [
              "<Figure size 432x288 with 1 Axes>"
            ]
          },
          "metadata": {
            "tags": [],
            "needs_background": "light"
          }
        }
      ]
    },
    {
      "cell_type": "markdown",
      "metadata": {
        "id": "w2Xpj-gH2scp"
      },
      "source": [
        "### Insights:\n",
        "\n",
        "1. The distribution seems to be slightly right skewed.\n",
        "2. The datapoints in the range of 20 to 40 is dominating. "
      ]
    },
    {
      "cell_type": "code",
      "metadata": {
        "colab": {
          "base_uri": "https://localhost:8080/",
          "height": 279
        },
        "id": "qrldM2wz2NmE",
        "outputId": "2275fc5b-24e9-491d-fae2-1c85767e39ff"
      },
      "source": [
        "# Visualising the Hours column\n",
        "sns.distplot(data['Hours'])\n",
        "plt.show()"
      ],
      "execution_count": 10,
      "outputs": [
        {
          "output_type": "display_data",
          "data": {
            "image/png": "[encoded data removed]",
            "text/plain": [
              "<Figure size 432x288 with 1 Axes>"
            ]
          },
          "metadata": {
            "tags": [],
            "needs_background": "light"
          }
        }
      ]
    },
    {
      "cell_type": "markdown",
      "metadata": {
        "id": "GPQojCJn3pcc"
      },
      "source": [
        "### Insights:\n",
        "\n",
        "1. The distribution seems to be slightly right skewed.\n",
        "2. The datapoints in the range of 1 to 4 is slightly dominating. "
      ]
    },
    {
      "cell_type": "markdown",
      "metadata": {
        "id": "6Wx8ed4GFaXi"
      },
      "source": [
        "### Bi-Variate Analysis: Relationship between Study Hours and Scores"
      ]
    },
    {
      "cell_type": "code",
      "metadata": {
        "colab": {
          "base_uri": "https://localhost:8080/",
          "height": 318
        },
        "id": "tcDhdd7m3XHs",
        "outputId": "9af1100b-918b-4173-ded8-caacb6419707"
      },
      "source": [
        "# Visualizing the relationship between Hours and Scores column\n",
        "sns.set(font_scale=1.5)\n",
        "plt.figure(figsize= (6,4))\n",
        "sns.scatterplot(data= data, x= 'Hours', y= 'Scores', s=data['Scores'])\n",
        "plt.title(\"Relationship between Hours and Scores\")\n",
        "plt.show()"
      ],
      "execution_count": 11,
      "outputs": [
        {
          "output_type": "display_data",
          "data": {
            "image/png": "[encoded data removed]",
            "text/plain": [
              "<Figure size 432x288 with 1 Axes>"
            ]
          },
          "metadata": {
            "tags": []
          }
        }
      ]
    },
    {
      "cell_type": "markdown",
      "metadata": {
        "id": "q7-_Sg2T7MHb"
      },
      "source": [
        "### Insight: There is a linear relationship between Hours and Scores. So, Linear regression method can be applied for making predictions."
      ]
    },
    {
      "cell_type": "markdown",
      "metadata": {
        "id": "3Olk6qJK73YK"
      },
      "source": [
        "### Data Preparation for building model"
      ]
    },
    {
      "cell_type": "markdown",
      "metadata": {
        "id": "xkNzcq4f7_N6"
      },
      "source": [
        "There are two variables in the dataset- Hours and Scores\n",
        "\n",
        "We have to predict the scores of a student given the hours per day.\n",
        "\n",
        "So, Hours is the independent variable and Scores is the dependent variable."
      ]
    },
    {
      "cell_type": "code",
      "metadata": {
        "id": "t-Wxx0kJF160"
      },
      "source": [
        "# Creating the X and y for data\n",
        "\n",
        "y= data.pop('Scores')\n",
        "X= data"
      ],
      "execution_count": 12,
      "outputs": []
    },
    {
      "cell_type": "code",
      "metadata": {
        "colab": {
          "base_uri": "https://localhost:8080/"
        },
        "id": "ukofbfBN8xZQ",
        "outputId": "b98026f1-f12e-4dae-cbb7-fb3a1189088b"
      },
      "source": [
        "# Checking the shape of X and y\n",
        "print(\"The shape of X is \", X.shape)\n",
        "print(\"The shape of y is \", y.shape)"
      ],
      "execution_count": 13,
      "outputs": [
        {
          "output_type": "stream",
          "text": [
            "The shape of X is  (25, 1)\n",
            "The shape of y is  (25,)\n"
          ],
          "name": "stdout"
        }
      ]
    },
    {
      "cell_type": "code",
      "metadata": {
        "id": "__dSVSBv8-l6"
      },
      "source": [
        "# Splitting the dataset in train and test \n",
        "from sklearn.model_selection import train_test_split\n",
        "X_train, X_test, y_train, y_test= train_test_split(X, y, test_size= 0.3, random_state=17)"
      ],
      "execution_count": 14,
      "outputs": []
    },
    {
      "cell_type": "code",
      "metadata": {
        "id": "jwxMZFCQ9nKy"
      },
      "source": [
        "# Importing statsmodel for examining better statistical measurements\n",
        "import statsmodels.api as sm"
      ],
      "execution_count": 15,
      "outputs": []
    },
    {
      "cell_type": "code",
      "metadata": {
        "colab": {
          "base_uri": "https://localhost:8080/"
        },
        "id": "Dq_C6bVD9qpj",
        "outputId": "09f03851-afe9-41bb-b581-ab9eac24efdd"
      },
      "source": [
        "X_stat= sm.add_constant(X_train) # adding the constant term\n",
        "stat_model= sm.OLS(y_train, X_stat).fit() #fitting the model\n",
        "print(stat_model.summary())"
      ],
      "execution_count": 16,
      "outputs": [
        {
          "output_type": "stream",
          "text": [
            "                            OLS Regression Results                            \n",
            "==============================================================================\n",
            "Dep. Variable:                 Scores   R-squared:                       0.952\n",
            "Model:                            OLS   Adj. R-squared:                  0.948\n",
            "Method:                 Least Squares   F-statistic:                     295.0\n",
            "Date:                Tue, 17 Aug 2021   Prob (F-statistic):           2.83e-11\n",
            "Time:                        17:53:27   Log-Likelihood:                -54.034\n",
            "No. Observations:                  17   AIC:                             112.1\n",
            "Df Residuals:                      15   BIC:                             113.7\n",
            "Df Model:                           1                                         \n",
            "Covariance Type:            nonrobust                                         \n",
            "==============================================================================\n",
            "                 coef    std err          t      P>|t|      [0.025      0.975]\n",
            "------------------------------------------------------------------------------\n",
            "const          2.5609      3.383      0.757      0.461      -4.651       9.772\n",
            "Hours          9.7733      0.569     17.175      0.000       8.560      10.986\n",
            "==============================================================================\n",
            "Omnibus:                        5.252   Durbin-Watson:                   2.333\n",
            "Prob(Omnibus):                  0.072   Jarque-Bera (JB):                1.580\n",
            "Skew:                          -0.205   Prob(JB):                        0.454\n",
            "Kurtosis:                       1.564   Cond. No.                         13.7\n",
            "==============================================================================\n",
            "\n",
            "Warnings:\n",
            "[1] Standard Errors assume that the covariance matrix of the errors is correctly specified.\n"
          ],
          "name": "stdout"
        }
      ]
    },
    {
      "cell_type": "markdown",
      "metadata": {
        "id": "5nAkLggXAFRr"
      },
      "source": [
        "### Insights:\n",
        "1. Both R-Squared and Adjusted R-Squared values are very close approximately 95 % that means the variable is explaining 95 % of variance in the data and which implies the good strength of model.\n",
        "\n",
        "2. F-Statistics probability is very less than 0.05, which indicates that overall model fit is significant.\n",
        "\n"
      ]
    },
    {
      "cell_type": "markdown",
      "metadata": {
        "id": "lTdtf8N5BUIC"
      },
      "source": [
        "### Using Sklearn's Linear Regression model"
      ]
    },
    {
      "cell_type": "code",
      "metadata": {
        "id": "dIv6wU8q_Xx-"
      },
      "source": [
        "# Importing Linear Regression model from Sklearn library\n",
        "from sklearn.linear_model import LinearRegression"
      ],
      "execution_count": 17,
      "outputs": []
    },
    {
      "cell_type": "code",
      "metadata": {
        "colab": {
          "base_uri": "https://localhost:8080/",
          "height": 204
        },
        "id": "oD0PB1LzNHjq",
        "outputId": "d8574799-b0b1-4db7-d668-782a581ff7f0"
      },
      "source": [
        "X_train.head()"
      ],
      "execution_count": 18,
      "outputs": [
        {
          "output_type": "execute_result",
          "data": {
            "text/html": [
              "<div>\n",
              "<style scoped>\n",
              "    .dataframe tbody tr th:only-of-type {\n",
              "        vertical-align: middle;\n",
              "    }\n",
              "\n",
              "    .dataframe tbody tr th {\n",
              "        vertical-align: top;\n",
              "    }\n",
              "\n",
              "    .dataframe thead th {\n",
              "        text-align: right;\n",
              "    }\n",
              "</style>\n",
              "<table border=\"1\" class=\"dataframe\">\n",
              "  <thead>\n",
              "    <tr style=\"text-align: right;\">\n",
              "      <th></th>\n",
              "      <th>Hours</th>\n",
              "    </tr>\n",
              "  </thead>\n",
              "  <tbody>\n",
              "    <tr>\n",
              "      <th>3</th>\n",
              "      <td>8.5</td>\n",
              "    </tr>\n",
              "    <tr>\n",
              "      <th>2</th>\n",
              "      <td>3.2</td>\n",
              "    </tr>\n",
              "    <tr>\n",
              "      <th>10</th>\n",
              "      <td>7.7</td>\n",
              "    </tr>\n",
              "    <tr>\n",
              "      <th>8</th>\n",
              "      <td>8.3</td>\n",
              "    </tr>\n",
              "    <tr>\n",
              "      <th>9</th>\n",
              "      <td>2.7</td>\n",
              "    </tr>\n",
              "  </tbody>\n",
              "</table>\n",
              "</div>"
            ],
            "text/plain": [
              "    Hours\n",
              "3     8.5\n",
              "2     3.2\n",
              "10    7.7\n",
              "8     8.3\n",
              "9     2.7"
            ]
          },
          "metadata": {
            "tags": []
          },
          "execution_count": 18
        }
      ]
    },
    {
      "cell_type": "code",
      "metadata": {
        "colab": {
          "base_uri": "https://localhost:8080/"
        },
        "id": "0ui3KWrcLPJe",
        "outputId": "bf413fdd-d36b-41b9-d001-b26842972369"
      },
      "source": [
        "y_train.head()"
      ],
      "execution_count": 19,
      "outputs": [
        {
          "output_type": "execute_result",
          "data": {
            "text/plain": [
              "3     75\n",
              "2     27\n",
              "10    85\n",
              "8     81\n",
              "9     25\n",
              "Name: Scores, dtype: int64"
            ]
          },
          "metadata": {
            "tags": []
          },
          "execution_count": 19
        }
      ]
    },
    {
      "cell_type": "code",
      "metadata": {
        "colab": {
          "base_uri": "https://localhost:8080/"
        },
        "id": "16FDmd1TCYc5",
        "outputId": "b6087091-00cb-4216-ef99-931c09cc9544"
      },
      "source": [
        "# Fitting the model\n",
        "LR_model= LinearRegression()\n",
        "LR_model.fit(X_train, y_train)"
      ],
      "execution_count": 20,
      "outputs": [
        {
          "output_type": "execute_result",
          "data": {
            "text/plain": [
              "LinearRegression(copy_X=True, fit_intercept=True, n_jobs=None, normalize=False)"
            ]
          },
          "metadata": {
            "tags": []
          },
          "execution_count": 20
        }
      ]
    },
    {
      "cell_type": "code",
      "metadata": {
        "colab": {
          "base_uri": "https://localhost:8080/"
        },
        "id": "j7jsTwGBIN1H",
        "outputId": "09cbbaf6-cc60-4f7d-c352-3871a7538df0"
      },
      "source": [
        "#Predicting on training dataset\n",
        "y_train_predict= LR_model.predict(X_train)\n",
        "y_train_predict"
      ],
      "execution_count": 21,
      "outputs": [
        {
          "output_type": "execute_result",
          "data": {
            "text/plain": [
              "array([85.63429766, 33.83559229, 77.81562516, 83.67962954, 28.94892197,\n",
              "       13.31157696, 52.4049395 , 69.99695265, 46.54093512, 56.31427576,\n",
              "       36.76759448, 34.81292636, 26.99425385, 92.47563611, 78.79295922,\n",
              "       21.13024946, 89.54363392])"
            ]
          },
          "metadata": {
            "tags": []
          },
          "execution_count": 21
        }
      ]
    },
    {
      "cell_type": "code",
      "metadata": {
        "colab": {
          "base_uri": "https://localhost:8080/",
          "height": 204
        },
        "id": "5VuDKEp9INwk",
        "outputId": "326d4d4c-5070-43c5-c329-d03a16f7118a"
      },
      "source": [
        "# Evaluating the model\n",
        "train_prediction= pd.DataFrame({\"X_train_actual\": np.ravel(X_train),\n",
        "                                \"y_train_actual\": np.ravel(y_train),\n",
        "                                \"y_train_prediction\": np.ravel(y_train_predict)})\n",
        "train_prediction.head()"
      ],
      "execution_count": 22,
      "outputs": [
        {
          "output_type": "execute_result",
          "data": {
            "text/html": [
              "<div>\n",
              "<style scoped>\n",
              "    .dataframe tbody tr th:only-of-type {\n",
              "        vertical-align: middle;\n",
              "    }\n",
              "\n",
              "    .dataframe tbody tr th {\n",
              "        vertical-align: top;\n",
              "    }\n",
              "\n",
              "    .dataframe thead th {\n",
              "        text-align: right;\n",
              "    }\n",
              "</style>\n",
              "<table border=\"1\" class=\"dataframe\">\n",
              "  <thead>\n",
              "    <tr style=\"text-align: right;\">\n",
              "      <th></th>\n",
              "      <th>X_train_actual</th>\n",
              "      <th>y_train_actual</th>\n",
              "      <th>y_train_prediction</th>\n",
              "    </tr>\n",
              "  </thead>\n",
              "  <tbody>\n",
              "    <tr>\n",
              "      <th>0</th>\n",
              "      <td>8.5</td>\n",
              "      <td>75</td>\n",
              "      <td>85.634298</td>\n",
              "    </tr>\n",
              "    <tr>\n",
              "      <th>1</th>\n",
              "      <td>3.2</td>\n",
              "      <td>27</td>\n",
              "      <td>33.835592</td>\n",
              "    </tr>\n",
              "    <tr>\n",
              "      <th>2</th>\n",
              "      <td>7.7</td>\n",
              "      <td>85</td>\n",
              "      <td>77.815625</td>\n",
              "    </tr>\n",
              "    <tr>\n",
              "      <th>3</th>\n",
              "      <td>8.3</td>\n",
              "      <td>81</td>\n",
              "      <td>83.679630</td>\n",
              "    </tr>\n",
              "    <tr>\n",
              "      <th>4</th>\n",
              "      <td>2.7</td>\n",
              "      <td>25</td>\n",
              "      <td>28.948922</td>\n",
              "    </tr>\n",
              "  </tbody>\n",
              "</table>\n",
              "</div>"
            ],
            "text/plain": [
              "   X_train_actual  y_train_actual  y_train_prediction\n",
              "0             8.5              75           85.634298\n",
              "1             3.2              27           33.835592\n",
              "2             7.7              85           77.815625\n",
              "3             8.3              81           83.679630\n",
              "4             2.7              25           28.948922"
            ]
          },
          "metadata": {
            "tags": []
          },
          "execution_count": 22
        }
      ]
    },
    {
      "cell_type": "code",
      "metadata": {
        "colab": {
          "base_uri": "https://localhost:8080/",
          "height": 318
        },
        "id": "JCBT1W_pINtp",
        "outputId": "5558a661-e107-404a-c5df-cfa86e5d8ac0"
      },
      "source": [
        "# Visualizing the training model\n",
        "# Plotting the model \n",
        "sns.set(font_scale=1.5)\n",
        "plt.figure(figsize= (6,4))\n",
        "sns.scatterplot(x= train_prediction['X_train_actual'], y= train_prediction['y_train_actual'])\n",
        "sns.lineplot(x= train_prediction['X_train_actual'], y= train_prediction['y_train_prediction'])\n",
        "plt.title(\"Plotting the predictions\")\n",
        "plt.show()"
      ],
      "execution_count": 23,
      "outputs": [
        {
          "output_type": "display_data",
          "data": {
            "image/png": "[encoded data removed]",
            "text/plain": [
              "<Figure size 432x288 with 1 Axes>"
            ]
          },
          "metadata": {
            "tags": []
          }
        }
      ]
    },
    {
      "cell_type": "code",
      "metadata": {
        "colab": {
          "base_uri": "https://localhost:8080/"
        },
        "id": "yMa03zpHINpy",
        "outputId": "163b1cdc-31fc-45a5-f789-46dfa6efdc3c"
      },
      "source": [
        "# Checking the metrics \n",
        "from sklearn.metrics import mean_absolute_error, mean_squared_error\n",
        "print(\"Mean Squared Error on training dataset: \", mean_squared_error(y_train, y_train_predict))\n",
        "print(\"Mean Absolute Error on training dataset: \", mean_absolute_error(y_train, y_train_predict))"
      ],
      "execution_count": 24,
      "outputs": [
        {
          "output_type": "stream",
          "text": [
            "Mean Squared Error on training dataset:  33.75371853865284\n",
            "Mean Absolute Error on training dataset:  5.445593727208556\n"
          ],
          "name": "stdout"
        }
      ]
    },
    {
      "cell_type": "markdown",
      "metadata": {
        "id": "DfZsVQaEtDrK"
      },
      "source": [
        "### Checking the assumption of Linear Regression"
      ]
    },
    {
      "cell_type": "markdown",
      "metadata": {
        "id": "4CH5DuUMtQCz"
      },
      "source": [
        "#### Assumption 1: There should be a linear relationship between Dependent Variable and Independent Variables\n",
        "\n",
        "##### As we have already seen above using scatter plot, there is a linear relationship between Hours and Scores variable."
      ]
    },
    {
      "cell_type": "markdown",
      "metadata": {
        "id": "97hAC7sAtxtZ"
      },
      "source": [
        "#### Assumption 2: Normal distribution of Error terms, i.e. mean of error terms should be zero."
      ]
    },
    {
      "cell_type": "code",
      "metadata": {
        "colab": {
          "base_uri": "https://localhost:8080/",
          "height": 298
        },
        "id": "E3NFoYZ4s-PK",
        "outputId": "42413762-8d8f-4392-fe77-c8530659bc61"
      },
      "source": [
        "# Calculating residual error terms for training dataset and plotting a distplot\n",
        "res= y_train_predict-y_train\n",
        "sns.distplot(res)\n",
        "plt.show()"
      ],
      "execution_count": 25,
      "outputs": [
        {
          "output_type": "display_data",
          "data": {
            "image/png": "[encoded data removed]",
            "text/plain": [
              "<Figure size 432x288 with 1 Axes>"
            ]
          },
          "metadata": {
            "tags": []
          }
        }
      ]
    },
    {
      "cell_type": "code",
      "metadata": {
        "colab": {
          "base_uri": "https://localhost:8080/"
        },
        "id": "vrOidLNds-Jd",
        "outputId": "0f465fc7-4bd6-4c32-9588-3664bc23d8c9"
      },
      "source": [
        "# Calculating mean value of error terms\n",
        "mean_value= np.mean(res)\n",
        "print(\"The mean of errors is \", mean_value)"
      ],
      "execution_count": 26,
      "outputs": [
        {
          "output_type": "stream",
          "text": [
            "The mean of errors is  -3.761696836377001e-15\n"
          ],
          "name": "stdout"
        }
      ]
    },
    {
      "cell_type": "markdown",
      "metadata": {
        "id": "HleIyTe10KOw"
      },
      "source": [
        "##### The mean error is approximately 0."
      ]
    },
    {
      "cell_type": "markdown",
      "metadata": {
        "id": "NAY4tSqU0TCa"
      },
      "source": [
        "### Assumption 3: Independence of error terms"
      ]
    },
    {
      "cell_type": "code",
      "metadata": {
        "colab": {
          "base_uri": "https://localhost:8080/",
          "height": 298
        },
        "id": "GUYXqoGCs-G6",
        "outputId": "37e55fb8-2291-4c75-add9-dca72f4c53df"
      },
      "source": [
        "#Plotting a scatter plot\n",
        "sns.scatterplot(res, y_train_predict)\n",
        "plt.show()"
      ],
      "execution_count": 27,
      "outputs": [
        {
          "output_type": "display_data",
          "data": {
            "image/png": "[encoded data removed]",
            "text/plain": [
              "<Figure size 432x288 with 1 Axes>"
            ]
          },
          "metadata": {
            "tags": []
          }
        }
      ]
    },
    {
      "cell_type": "markdown",
      "metadata": {
        "id": "1eealsqW0it5"
      },
      "source": [
        "##### From the above scatter plot, error terms seems to have no visible pattern"
      ]
    },
    {
      "cell_type": "markdown",
      "metadata": {
        "id": "77ikP3oG0p38"
      },
      "source": [
        "#### Assumption 4: Check for Homoscedasticity"
      ]
    },
    {
      "cell_type": "markdown",
      "metadata": {
        "id": "a9lgLUaj0tlu"
      },
      "source": [
        "##### From the above distplot, error terms seems to have normal distribution that means it has constant variance hence homoscedasticity."
      ]
    },
    {
      "cell_type": "markdown",
      "metadata": {
        "id": "_Vz6-60z0zQD"
      },
      "source": [
        "### All the assumptions seems to be validated."
      ]
    },
    {
      "cell_type": "markdown",
      "metadata": {
        "id": "vysbzKGoK_79"
      },
      "source": [
        "### Making prediction on Test dataset"
      ]
    },
    {
      "cell_type": "code",
      "metadata": {
        "colab": {
          "base_uri": "https://localhost:8080/"
        },
        "id": "hmKCHKzNK9rK",
        "outputId": "cfcd1165-63f7-4638-dc00-a9feb7accd57"
      },
      "source": [
        "#Predicting on training dataset\n",
        "y_test_predict= LR_model.predict(X_test)\n",
        "y_test_predict"
      ],
      "execution_count": 28,
      "outputs": [
        {
          "output_type": "execute_result",
          "data": {
            "text/plain": [
              "array([28.94892197, 26.99425385, 62.17828014, 74.88362296, 17.22091321,\n",
              "       60.22361201, 49.47293731, 39.69959667])"
            ]
          },
          "metadata": {
            "tags": []
          },
          "execution_count": 28
        }
      ]
    },
    {
      "cell_type": "markdown",
      "metadata": {
        "id": "FrU7vNjCLPIX"
      },
      "source": [
        "## Model Evaluation"
      ]
    },
    {
      "cell_type": "code",
      "metadata": {
        "colab": {
          "base_uri": "https://localhost:8080/",
          "height": 204
        },
        "id": "-xsBx-fkK9rk",
        "outputId": "d9d4ec29-966f-47bb-ca0a-e10473bfc528"
      },
      "source": [
        "# Evaluating the model\n",
        "test_prediction= pd.DataFrame({\"X_test_actual\": np.ravel(X_test),\n",
        "                                \"y_test_actual\": np.ravel(y_test),\n",
        "                                \"y_test_prediction\": np.ravel(y_test_predict)})\n",
        "test_prediction.head()"
      ],
      "execution_count": 29,
      "outputs": [
        {
          "output_type": "execute_result",
          "data": {
            "text/html": [
              "<div>\n",
              "<style scoped>\n",
              "    .dataframe tbody tr th:only-of-type {\n",
              "        vertical-align: middle;\n",
              "    }\n",
              "\n",
              "    .dataframe tbody tr th {\n",
              "        vertical-align: top;\n",
              "    }\n",
              "\n",
              "    .dataframe thead th {\n",
              "        text-align: right;\n",
              "    }\n",
              "</style>\n",
              "<table border=\"1\" class=\"dataframe\">\n",
              "  <thead>\n",
              "    <tr style=\"text-align: right;\">\n",
              "      <th></th>\n",
              "      <th>X_test_actual</th>\n",
              "      <th>y_test_actual</th>\n",
              "      <th>y_test_prediction</th>\n",
              "    </tr>\n",
              "  </thead>\n",
              "  <tbody>\n",
              "    <tr>\n",
              "      <th>0</th>\n",
              "      <td>2.7</td>\n",
              "      <td>30</td>\n",
              "      <td>28.948922</td>\n",
              "    </tr>\n",
              "    <tr>\n",
              "      <th>1</th>\n",
              "      <td>2.5</td>\n",
              "      <td>21</td>\n",
              "      <td>26.994254</td>\n",
              "    </tr>\n",
              "    <tr>\n",
              "      <th>2</th>\n",
              "      <td>6.1</td>\n",
              "      <td>67</td>\n",
              "      <td>62.178280</td>\n",
              "    </tr>\n",
              "    <tr>\n",
              "      <th>3</th>\n",
              "      <td>7.4</td>\n",
              "      <td>69</td>\n",
              "      <td>74.883623</td>\n",
              "    </tr>\n",
              "    <tr>\n",
              "      <th>4</th>\n",
              "      <td>1.5</td>\n",
              "      <td>20</td>\n",
              "      <td>17.220913</td>\n",
              "    </tr>\n",
              "  </tbody>\n",
              "</table>\n",
              "</div>"
            ],
            "text/plain": [
              "   X_test_actual  y_test_actual  y_test_prediction\n",
              "0            2.7             30          28.948922\n",
              "1            2.5             21          26.994254\n",
              "2            6.1             67          62.178280\n",
              "3            7.4             69          74.883623\n",
              "4            1.5             20          17.220913"
            ]
          },
          "metadata": {
            "tags": []
          },
          "execution_count": 29
        }
      ]
    },
    {
      "cell_type": "code",
      "metadata": {
        "colab": {
          "base_uri": "https://localhost:8080/",
          "height": 318
        },
        "id": "rpOoeHHXK9rl",
        "outputId": "e81505ed-9c3e-4100-c316-bf1cd230550e"
      },
      "source": [
        "# Visualizing the training model\n",
        "# Plotting the model \n",
        "sns.set(font_scale=1.5)\n",
        "plt.figure(figsize= (6,4))\n",
        "sns.scatterplot(x= test_prediction['X_test_actual'], y= test_prediction['y_test_actual'])\n",
        "sns.lineplot(x= test_prediction['X_test_actual'], y= test_prediction['y_test_prediction'])\n",
        "plt.title(\"Plotting the predictions\")\n",
        "plt.show()"
      ],
      "execution_count": 30,
      "outputs": [
        {
          "output_type": "display_data",
          "data": {
            "image/png": "[encoded data removed]",
            "text/plain": [
              "<Figure size 432x288 with 1 Axes>"
            ]
          },
          "metadata": {
            "tags": []
          }
        }
      ]
    },
    {
      "cell_type": "code",
      "metadata": {
        "colab": {
          "base_uri": "https://localhost:8080/"
        },
        "id": "q7oizQ4JK9rl",
        "outputId": "7e3a9f87-0f9b-4ffc-a12d-faf377140ec5"
      },
      "source": [
        "# Checking the metrics \n",
        "from sklearn.metrics import mean_absolute_error, mean_squared_error\n",
        "print(\"Mean Squared Error on test dataset: \", mean_squared_error(y_test, y_test_predict))\n",
        "print(\"Mean Absolute Error on test dataset: \", mean_absolute_error(y_test, y_test_predict))"
      ],
      "execution_count": 31,
      "outputs": [
        {
          "output_type": "stream",
          "text": [
            "Mean Squared Error on test dataset:  18.545153623454564\n",
            "Mean Absolute Error on test dataset:  3.9416011054125395\n"
          ],
          "name": "stdout"
        }
      ]
    },
    {
      "cell_type": "markdown",
      "metadata": {
        "id": "_92VhuDcPS2X"
      },
      "source": [
        "### The mean absolute error on test dataset is 3.94"
      ]
    },
    {
      "cell_type": "markdown",
      "metadata": {
        "id": "5xmbPfFUMivU"
      },
      "source": [
        "## Prediction on user's data"
      ]
    },
    {
      "cell_type": "code",
      "metadata": {
        "colab": {
          "base_uri": "https://localhost:8080/"
        },
        "id": "2VmP_vd2INgH",
        "outputId": "a56fc3a8-12e8-4dc4-b457-e4fb8506eff6"
      },
      "source": [
        "hours= float(input(\"Enter no. of hours: \"))\n",
        "max_score= 100.0\n",
        "score= LR_model.predict(np.array(hours).reshape(-1,1))\n",
        "if score <= max_score: \n",
        "  score= LR_model.predict(np.array(hours).reshape(-1,1))\n",
        "  print(\"If you study for {0} hours per day\".format(hours))\n",
        "  print(\"Your predicted score is {0}\".format(score[0]))\n",
        "else:\n",
        "  print(\"Invalid input\")"
      ],
      "execution_count": 32,
      "outputs": [
        {
          "output_type": "stream",
          "text": [
            "Enter no. of hours: 9.25\n",
            "If you study for 9.25 hours per day\n",
            "Your predicted score is 92.96430314196084\n"
          ],
          "name": "stdout"
        }
      ]
    },
    {
      "cell_type": "markdown",
      "metadata": {
        "id": "B7wgvhswQ4hi"
      },
      "source": [
        "# Thank You"
      ]
    },
    {
      "cell_type": "code",
      "metadata": {
        "id": "28EeMM6z14jP"
      },
      "source": [
        ""
      ],
      "execution_count": 32,
      "outputs": []
    }
  ]
}